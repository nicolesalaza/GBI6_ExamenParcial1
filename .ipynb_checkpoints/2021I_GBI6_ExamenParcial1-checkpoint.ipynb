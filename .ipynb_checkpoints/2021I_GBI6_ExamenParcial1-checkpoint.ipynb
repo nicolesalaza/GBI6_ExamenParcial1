{
 "cells": [
  {
   "cell_type": "markdown",
   "metadata": {},
   "source": [
    "<img src=\"https://www.ikiam.edu.ec/img/logo-ikiam-grey.png\" width=300 height=240 />\n",
    "\n",
    "# EXAMEN PARCIAL 1\n",
    "\n",
    "## GBI6-2021II: BIOINFORMÁTICA\n",
    "\n",
    "**Salazar, Mildreth** \n",
    "\n",
    "**14-01-2021**"
   ]
  },
  {
   "cell_type": "markdown",
   "metadata": {},
   "source": []
  },
  {
   "cell_type": "markdown",
   "metadata": {},
   "source": [
    "# 1. UNIX\n",
    "\n",
    "## Ejercicio 1\n",
    "**Para esta pregunta debe realizar previamente lo siguiente** \n",
    "\n",
    "1. Imprimir el directorio de trabajo actual \n",
    "2. Crear un directorio test1\n",
    "3. No cambie de directorio, pero los items 4, 5 y 6 deben guardarse en el directorio creado en el paso 2. \n",
    "4. Crear el archivo test1.txt\n",
    "5. Guardar el texto Hola GBI6 en un archivo test2.txt\n",
    "6. Guardar la instrucción print(\"Hola GBI6\")  en el archivo test1.py\n",
    "Luego seleccione la instrucción que agregue el texto El examen parcial de GBI6 es hoy al archivo test2.txt sin reemplazar y imprima el contenido en la consola.\n",
    "\n",
    "<img src=\"data/imagenes/Ejercicio 1.jpg\" width=600 height=450 />\n",
    "\n",
    "## Ejercicio 2\n",
    "**Para esta pregunta debe realizar previamente lo siguiente:** \n",
    "\n",
    "1. Imprimir el directorio de trabajo actual \n",
    "2. Crear un directorio test1\n",
    "3. No cambie de directorio, pero los items 4, 5 y 6 deben guardarse en el directorio creado en el paso 2. \n",
    "4. Crear el archivo test1.txt\n",
    "5. Guardar el texto Hola GBI6 en un archivo test2.txt\n",
    "6. Guardar la instrucción print(\"Hola GBI6\")  en el archivo test1.py\n",
    "Luego seleccione la instrucción que permite enlistar el contenido (incluyendo detalles) del directorio test1\n",
    "\n",
    "<img src=\"data/imagenes/Ejercicio 2.1.jpg\" width=600 height=450 />\n",
    "<img src=\"data/imagenes/Ejercicio 2.2.jpg\" width=400 height=450 />\n",
    "\n",
    "## Ejercicio 3\n",
    "**Para esta pregunta debe realizar previamente lo siguiente:** \n",
    "\n",
    "1. Imprimir el directorio de trabajo actual \n",
    "2. Crear un directorio test1\n",
    "3. No cambie de directorio, pero los items 4, 5 y 6 deben guardarse en el directorio creado en el paso 2. \n",
    "4. Crear el archivo test1.txt\n",
    "5. Guardar el texto Hola GBI6 en un archivo test2.txt\n",
    "6. Guardar la instrucción print(\"Hola GBI6\")  en el archivo test1.py\n",
    "Luego seleccione la instrucción que enlista los archivos del directorio test1 y luego imprima el contenido de test2.txt\n",
    "\n",
    "<img src=\"data/imagenes/Ejercicio 3.jpg\" width=600 height=450 />\n",
    "\n",
    "## Ejercicio 4\n",
    "Resuelva el ejercicio **1.10.3 Plant–Pollinator Networks**. \n",
    "\n",
    "* Resuelva el ejercicio en un documento de nombre **ejercicio_1103.sh**\n",
    "* Cargue el documento **ejercicio_1103.sh** en GitHub utilizando **git push**. \n",
    "* Realice el video explicativo de la resolución ejercicio y guarde en YouTube en formato \"Público\" o \"Unlisted\", y pegue el enlace en el cuaderno de Jupyter."
   ]
  },
  {
   "cell_type": "code",
   "execution_count": 7,
   "metadata": {},
   "outputs": [
    {
     "data": {
      "text/html": [
       "<iframe width=\"560\" height=\"315\" src=\"https://www.youtube.com/embed/9ck5iEP03g4\" title=\"YouTube video player\" frameborder=\"0\" allow=\"accelerometer; autoplay; clipboard-write; encrypted-media; gyroscope; picture-in-picture\" allowfullscreen></iframe>"
      ],
      "text/plain": [
       "<IPython.core.display.HTML object>"
      ]
     },
     "execution_count": 7,
     "metadata": {},
     "output_type": "execute_result"
    }
   ],
   "source": [
    "# Coloque aquí su video del ejercicio 4\n",
    "from IPython.display import HTML\n",
    "HTML('<iframe width=\"560\" height=\"315\" src=\"https://www.youtube.com/embed/9ck5iEP03g4\" title=\"YouTube video player\" frameborder=\"0\" allow=\"accelerometer; autoplay; clipboard-write; encrypted-media; gyroscope; picture-in-picture\" allowfullscreen></iframe>')\n"
   ]
  },
  {
   "cell_type": "markdown",
   "metadata": {},
   "source": [
    "\n",
    "## Ejercicio 5\n",
    "Resuelva el ejercicio **1.10.4 Data Explorer**. \n",
    "\n",
    "* Resuelva el ejercicio en un documento de nombre ejercicio_1104.sh\n",
    "* Cargue el documento **ejercicio_1104.sh** en GitHub utilizando **git push**. \n",
    "* Realice el video explicativo de la resolución ejercicio y guarde en YouTube en formato \"Público\" o \"Unlisted\", y pegue el enlace en el cuaderno de Jupyter."
   ]
  },
  {
   "cell_type": "code",
   "execution_count": 5,
   "metadata": {},
   "outputs": [
    {
     "data": {
      "text/html": [
       "<iframe width=\"560\" height=\"315\" src=\"https://www.youtube.com/embed/3XlZWpLwvvo\" title=\"YouTube video player\" frameborder=\"0\" allow=\"accelerometer; autoplay; clipboard-write; encrypted-media; gyroscope; picture-in-picture\" allowfullscreen></iframe>"
      ],
      "text/plain": [
       "<IPython.core.display.HTML object>"
      ]
     },
     "execution_count": 5,
     "metadata": {},
     "output_type": "execute_result"
    }
   ],
   "source": [
    "# Coloque aquí su video del ejercicio 5\n",
    "from IPython.display import HTML\n",
    "HTML('<iframe width=\"560\" height=\"315\" src=\"https://www.youtube.com/embed/3XlZWpLwvvo\" title=\"YouTube video player\" frameborder=\"0\" allow=\"accelerometer; autoplay; clipboard-write; encrypted-media; gyroscope; picture-in-picture\" allowfullscreen></iframe>')\n"
   ]
  },
  {
   "cell_type": "markdown",
   "metadata": {
    "jp-MarkdownHeadingCollapsed": true,
    "tags": []
   },
   "source": [
    "\n",
    "# 2. CONTROL DE LA VERSIÓN\n",
    "## Pregunta 6\n",
    "1. Cree en GitHub un repositorio de nombre ```GBI6_ExamenParcial1```. \n",
    "2. Cree un archivo ```Readme.md``` que debe tener lo siguiente: \n",
    "- Datos personales\n",
    "- Características del computador\n",
    "- Programas utilizados\n",
    "- Explicación de la data utilizada\n",
    "\n",
    "\n",
    "## Pregunta 7\n",
    "1. Cada vez que resuelva un ejercicio (del 1 al 10), utilizando Git Bash, GitHub Desktop o Atom realice un *git push* con el mensaje: \n",
    "\n",
    "\n",
    "<font color='red'>Apellido Nombre ha resuelto el ejercicio 1</font> % Cambie con sus apellidos y nombres; y con el número de ejercicio que corresponda \n",
    "\n",
    "2. Coloque aquí las capturas de pantalla para cada git push realizado desde Git Bash, GitHub Desktop o Atom. \n",
    "\n",
    "- Control de versión ejercicio 1\n",
    "\n",
    "<img src=\"data/imagenes_1.jpg\" width=600 height=450 />\n",
    "\n",
    "- Control de versión ejercicio 2\n",
    "\n",
    "<img src=\"data/ejemplo_unix.jpg\" width=600 height=450 />\n",
    "\n",
    "- Control de versión ejercicio 3\n",
    "\n",
    "<img src=\"data/ejemplo_unix.jpg\" width=600 height=450 />\n",
    "\n",
    "- Control de versión ejercicio 4\n",
    "\n",
    "<img src=\"data/ejemplo_unix.jpg\" width=600 height=450 />\n",
    "\n",
    "- Control de versión ejercicio 5\n",
    "\n",
    "<img src=\"data/ejemplo_unix.jpg\" width=600 height=450 />\n",
    "\n",
    "- Control de versión ejercicio 8\n",
    "\n",
    "<img src=\"data/ejemplo_unix.jpg\" width=600 height=450 />\n",
    "\n",
    "- Control de versión ejercicio 9\n",
    "\n",
    "<img src=\"data/ejemplo_unix.jpg\" width=600 height=450 />\n",
    "\n",
    "- Control de versión ejercicio 10\n",
    "\n",
    "<img src=\"data/ejemplo_unix.jpg\" width=600 height=450 />\n",
    "\n",
    "\n",
    "3. Cree un directorio de nombre ```data``` donde deben estar guardados: (i) la data utilizada y (ii) las capturas de pantalla de los ejercicios 1 al 3 y los git push del ejercicio 1 al 10 (en total debe tener 13 imágenes). \n",
    "4. Inserte aquí el enlace de su repositorio (válido para el ejercicio 6 y 7): [GitHub Repository: GBI6_ExamenParcial1](https://github.com/gualapuromoises/2021_gbi6.git) (este enlace es de ejemplo)"
   ]
  },
  {
   "cell_type": "markdown",
   "metadata": {},
   "source": [
    "# 3. INTRODUCCIÓN A PYTHON\n",
    "\n",
    "## Ejercicio 8\n",
    "\n",
    "**Para este ejercicio tiene que crear previamente lo siguiente:** \n",
    "\n",
    "Descargue la data \"SI Table 1\" (10080Table1.xls) de la página https://www.pnas.org/content/suppl/2006/12/27/0610080104.DC1. Esta data corresponde a algunas características de sueño de mamíferos. Seleccione los 10 primeros registros de la columna \"Total sleep time, hr\" y cree una lista de nombre lista1.\n",
    "\n",
    "**Relaciones los códigos y las respuestas que salen al ejecutar.** "
   ]
  },
  {
   "cell_type": "code",
   "execution_count": 69,
   "metadata": {},
   "outputs": [
    {
     "name": "stdout",
     "output_type": "stream",
     "text": [
      "13.08\n",
      "13.079999999999998\n",
      "None ikiam\n",
      "10.1\n",
      "None 13\n",
      "[14.9, 9.1]\n"
     ]
    }
   ],
   "source": [
    "lista1 = [8.6, 18, 19.4, 13.7, 11.1, 10.1, 10.3, 15.6, 14.9, 9.1 ]\n",
    "print (round(sum(lista1)/len(lista1),3))\n",
    "print (sum(lista1)/len(lista1))\n",
    "print (lista1.append([\"gbi6\", \"bio1\", \"ikiam\"]),lista1[-1][2])\n",
    "print (lista1[5])\n",
    "lista1 = [8.6, 18, 19.4, 13.7, 11.1, 10.1, 10.3, 15.6, 14.9, 9.1 ]\n",
    "print (lista1.extend([\"gbi6\", \"bio1\", \"ikiam\"]),len(lista1))\n",
    "lista1 = [8.6, 18, 19.4, 13.7, 11.1, 10.1, 10.3, 15.6, 14.9, 9.1 ]\n",
    "print (lista1[8:])"
   ]
  },
  {
   "cell_type": "markdown",
   "metadata": {},
   "source": [
    "## Ejercicio 9\n",
    "\n",
    "**Para este ejercicio tiene que crear previamente lo siguiente:** \n",
    "\n",
    "* Una lista de nombre lista1 que tenga a las 10 primeras letras del alfabeto.\n",
    "\n",
    "**Relaciones los códigos y las respuestas que salen al ejecutar.** "
   ]
  },
  {
   "cell_type": "code",
   "execution_count": 67,
   "metadata": {},
   "outputs": [
    {
     "name": "stdout",
     "output_type": "stream",
     "text": [
      "d\n",
      "None 11\n",
      "['c', 'd', 'e']\n",
      "None ikiam\n"
     ]
    }
   ],
   "source": [
    "lista1 = [\"a\", \"b\", \"c\", \"d\", \"e\", \"f\", \"g\", \"h\", \"i\", \"j\"]\n",
    "print (lista1[3])\n",
    "print (lista1.append([\"gbi6\", \"bio1\", \"ikiam\"]),len(lista1))\n",
    "print (lista1[2:5])\n",
    "print (lista1.append([\"gbi6\",\"bio1\",\"ikiam\"]),lista1[-1][-1])"
   ]
  },
  {
   "cell_type": "markdown",
   "metadata": {},
   "source": [
    "## Ejercicio 10\n",
    "\n",
    "**Para este ejercicio debe debe realizar lo siguiente:**\n",
    "\n",
    "1. Crear un diccionario de nombre dic_aminoacidos, donde se tenga la información de la tabla que se encuentra en http://www.russelllab.org/aas/aas.html. \n",
    "2. Utilice como \"key\" los valores de la columna \"AA\" y las columnas \"Hits\" y \"%Abundance\" como \"values\". \n",
    "3. Luego de crear el diccionario, extraiga los valores de \"key\" a una lista de nombre \"aminoacidos\"\n",
    "4. Extraiga los valores de \"value\" a una lista de nombre \"propiedades\""
   ]
  },
  {
   "cell_type": "code",
   "execution_count": 68,
   "metadata": {},
   "outputs": [
    {
     "name": "stdout",
     "output_type": "stream",
     "text": [
      "Aminoacidos dict_keys(['trp', 'Cys', 'His', 'Arg', 'Met', 'Tyr', 'Gln', 'Phe', 'Asp', 'Pro', 'Ala', 'Asn', 'Lys', 'Glu', 'Gly', 'Thr', 'Val', 'lle', 'Ser', 'Leu'])\n",
      "Propiedades dict_values([[{'hits': '1550', '%Abundance': '1.34'}], [{'hits': '1905', '%Abundance': '1.76'}], [{'hits': '1695', '%Abundance': '2.26'}], [{'hits': '3093', '%Abundance': '5.20'}], [{'hits': '1102', '%Abundance': '2.32'}], [{'hits': '1525', '%Abundance': '3.25'}], [{'hits': '1830', '%Abundance': '3.96'}], [{'hits': '1616', '%Abundance': '4.12'}], [{'hits': '1691', '%Abundance': '5.12'}], [{'hits': '1598', '%Abundance': '5.00'}], [{'hits': '2018', '%Abundance': '7.34'}], [{'hits': '1103', '%Abundance': '4.57'}], [{'hits': '1366', '%Abundance': '5.81'}], [{'hits': '1471', '%Abundance': '6.22'}], [{'hits': '1386', '%Abundance': '6.89'}], [{'hits': '1147', '%Abundance': '5.85'}], [{'hits': '1225', '%Abundance': '6.48'}], [{'hits': '1033', '%Abundance': '5.76'}], [{'hits': '1206', '%Abundance': '7.38'}], [{'hits': '1127', '%Abundance': '9.36'}]])\n"
     ]
    }
   ],
   "source": [
    "dic_aminoacidos = {\n",
    "    \"trp\": [\n",
    "        {\"hits\": \"1550\", \"%Abundance\": \"1.34\"},\n",
    "    ],\n",
    "    \"Cys\": [\n",
    "        {\"hits\": \"1905\", \"%Abundance\": \"1.76\"},\n",
    "    ],\n",
    "    \"His\": [\n",
    "        {\"hits\": \"1695\", \"%Abundance\": \"2.26\"},\n",
    "    ],\n",
    "    \"Arg\": [\n",
    "        {\"hits\": \"3093\", \"%Abundance\": \"5.20\"},\n",
    "    ],\n",
    "    \"Met\": [\n",
    "        {\"hits\": \"1102\", \"%Abundance\": \"2.32\"},\n",
    "    ],\n",
    "    \"Tyr\": [\n",
    "        {\"hits\": \"1525\", \"%Abundance\": \"3.25\"},\n",
    "    ],\n",
    "    \"Gln\": [\n",
    "        {\"hits\": \"1830\", \"%Abundance\": \"3.96\"},\n",
    "    ],\n",
    "    \"Phe\": [\n",
    "        {\"hits\": \"1616\", \"%Abundance\": \"4.12\"},\n",
    "    ],\n",
    "    \"Asp\": [\n",
    "        {\"hits\": \"1691\", \"%Abundance\": \"5.12\"},\n",
    "    ],\n",
    "    \"Pro\": [\n",
    "        {\"hits\": \"1598\", \"%Abundance\": \"5.00\"},\n",
    "    ],\n",
    "    \"Ala\": [\n",
    "        {\"hits\": \"2018\", \"%Abundance\": \"7.34\"},\n",
    "    ],\n",
    "    \"Asn\": [\n",
    "        {\"hits\": \"1103\", \"%Abundance\": \"4.57\"},\n",
    "    ],\n",
    "    \"Lys\": [\n",
    "        {\"hits\": \"1366\", \"%Abundance\": \"5.81\"},\n",
    "    ],\n",
    "    \"Glu\": [\n",
    "        {\"hits\": \"1471\", \"%Abundance\": \"6.22\"},\n",
    "    ],\n",
    "    \"Gly\": [\n",
    "        {\"hits\": \"1386\", \"%Abundance\": \"6.89\"},\n",
    "    ],\n",
    "    \"Thr\": [\n",
    "        {\"hits\": \"1147\", \"%Abundance\": \"5.85\"},\n",
    "    ],\n",
    "    \"Val\": [\n",
    "        {\"hits\": \"1225\", \"%Abundance\": \"6.48\"},\n",
    "    ],\n",
    "    \"lle\": [\n",
    "        {\"hits\": \"1033\", \"%Abundance\": \"5.76\"},\n",
    "    ],\n",
    "    \"Ser\": [\n",
    "        {\"hits\": \"1206\", \"%Abundance\": \"7.38\"},\n",
    "    ],\n",
    "    \"Leu\": [\n",
    "        {\"hits\": \"1127\", \"%Abundance\": \"9.36\"},\n",
    "    ],\n",
    "    \n",
    "}\n",
    "\n",
    "print(\"Aminoacidos\", dic_aminoacidos.keys())\n",
    "print(\"Propiedades\", dic_aminoacidos.values())"
   ]
  },
  {
   "cell_type": "code",
   "execution_count": null,
   "metadata": {},
   "outputs": [],
   "source": []
  }
 ],
 "metadata": {
  "kernelspec": {
   "display_name": "Python 3 (ipykernel)",
   "language": "python",
   "name": "python3"
  },
  "language_info": {
   "codemirror_mode": {
    "name": "ipython",
    "version": 3
   },
   "file_extension": ".py",
   "mimetype": "text/x-python",
   "name": "python",
   "nbconvert_exporter": "python",
   "pygments_lexer": "ipython3",
   "version": "3.9.7"
  },
  "latex_envs": {
   "LaTeX_envs_menu_present": true,
   "autoclose": false,
   "autocomplete": true,
   "bibliofile": "biblio.bib",
   "cite_by": "apalike",
   "current_citInitial": 1,
   "eqLabelWithNumbers": true,
   "eqNumInitial": 1,
   "hotkeys": {
    "equation": "Ctrl-E",
    "itemize": "Ctrl-I"
   },
   "labels_anchors": false,
   "latex_user_defs": false,
   "report_style_numbering": false,
   "user_envs_cfg": false
  },
  "toc": {
   "base_numbering": 1,
   "nav_menu": {},
   "number_sections": true,
   "sideBar": false,
   "skip_h1_title": false,
   "title_cell": "Table of Contents",
   "title_sidebar": "Contents",
   "toc_cell": false,
   "toc_position": {
    "height": "1152.67px",
    "left": "41px",
    "top": "110px",
    "width": "253.458px"
   },
   "toc_section_display": true,
   "toc_window_display": false
  },
  "varInspector": {
   "cols": {
    "lenName": 16,
    "lenType": 16,
    "lenVar": 40
   },
   "kernels_config": {
    "python": {
     "delete_cmd_postfix": "",
     "delete_cmd_prefix": "del ",
     "library": "var_list.py",
     "varRefreshCmd": "print(var_dic_list())"
    },
    "r": {
     "delete_cmd_postfix": ") ",
     "delete_cmd_prefix": "rm(",
     "library": "var_list.r",
     "varRefreshCmd": "cat(var_dic_list()) "
    }
   },
   "types_to_exclude": [
    "module",
    "function",
    "builtin_function_or_method",
    "instance",
    "_Feature"
   ],
   "window_display": false
  }
 },
 "nbformat": 4,
 "nbformat_minor": 4
}
